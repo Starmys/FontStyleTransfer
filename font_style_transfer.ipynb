{
  "cells": [
    {
      "cell_type": "code",
      "execution_count": null,
      "metadata": {
        "colab": {
          "base_uri": "https://localhost:8080/"
        },
        "id": "kfIscrarl6Bl",
        "outputId": "81eb5e17-bc59-408a-ea4a-a295ed00a5ac"
      },
      "outputs": [],
      "source": [
        "import os\n",
        "\n",
        "!git clone https://github.com/Starmys/FontStyleTransfer\n",
        "os.chdir('FontStyleTransfer')\n",
        "!git fetch\n",
        "!git reset origin/master --hard\n",
        "!cp config.example.yaml config.yaml\n",
        "!python3 main.py --render"
      ]
    },
    {
      "cell_type": "code",
      "execution_count": null,
      "metadata": {
        "colab": {
          "base_uri": "https://localhost:8080/"
        },
        "id": "E2Tw7V4gmlZE",
        "outputId": "4627fe8a-8ae8-4585-945b-4b1d2d3aca8e"
      },
      "outputs": [],
      "source": [
        "!python3 main.py --train"
      ]
    },
    {
      "cell_type": "code",
      "execution_count": null,
      "metadata": {
        "id": "ZfO4AldVp0mV"
      },
      "outputs": [],
      "source": []
    }
  ],
  "metadata": {
    "accelerator": "GPU",
    "colab": {
      "collapsed_sections": [],
      "name": "Copy of font_style_transfer.ipynb",
      "provenance": []
    },
    "kernelspec": {
      "display_name": "Python 3",
      "name": "python3"
    },
    "language_info": {
      "name": "python"
    }
  },
  "nbformat": 4,
  "nbformat_minor": 0
}
